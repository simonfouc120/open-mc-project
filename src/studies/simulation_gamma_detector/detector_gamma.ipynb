{
 "cells": [
  {
   "cell_type": "markdown",
   "id": "d6d6dfcc",
   "metadata": {},
   "source": [
    "# Librairies"
   ]
  },
  {
   "cell_type": "code",
   "execution_count": 154,
   "id": "62d1c6af",
   "metadata": {},
   "outputs": [],
   "source": [
    "%matplotlib inline\n",
    "import numpy as np\n",
    "import matplotlib.pyplot as plt\n",
    "import openmc\n",
    "\n",
    "from scipy.constants import Avogadro\n",
    "\n"
   ]
  },
  {
   "cell_type": "markdown",
   "id": "c9892ae4",
   "metadata": {},
   "source": [
    "# Ajout des matériaux"
   ]
  },
  {
   "cell_type": "code",
   "execution_count": 155,
   "id": "52b03e2e",
   "metadata": {},
   "outputs": [],
   "source": [
    "aluminum = openmc.Material()\n",
    "aluminum.add_element('Al', 1)\n",
    "aluminum.set_density('g/cm3', 2.7)\n",
    "\n",
    "sodium_iodide = openmc.Material()\n",
    "sodium_iodide.add_element('Na', 1)\n",
    "sodium_iodide.add_element('I', 1)\n",
    "sodium_iodide.set_density('g/cm3', 3.667)\n",
    "\n",
    "aluminum_oxide = openmc.Material()\n",
    "aluminum_oxide.add_nuclide('O16', 0.4) \n",
    "aluminum_oxide.add_element('Al', 0.6)\n",
    "aluminum_oxide.set_density('g/cm3', 3.97)\n",
    "\n",
    "iron = openmc.Material()\n",
    "iron.add_element('Fe', 1)\n",
    "iron.set_density('g/cm3', 7.874)\n",
    "\n",
    "mats = openmc.Materials([aluminum, sodium_iodide, aluminum_oxide, iron])\n",
    "mats.export_to_xml()"
   ]
  },
  {
   "cell_type": "markdown",
   "id": "d3368443",
   "metadata": {},
   "source": [
    "# Définition des matériaux "
   ]
  },
  {
   "cell_type": "code",
   "execution_count": 156,
   "id": "e9076555",
   "metadata": {},
   "outputs": [],
   "source": [
    "# Defining surfaces\n",
    "c1 = openmc.ZCylinder(r=3.81)\n",
    "c2 = openmc.ZCylinder(r=3.86)\n",
    "c3 = openmc.ZCylinder(r=3.91)\n",
    "\n",
    "z1 = openmc.ZPlane(z0=0.00)\n",
    "z2 = openmc.ZPlane(z0=0.05)\n",
    "z3 = openmc.ZPlane(z0=0.10)\n",
    "z4 = openmc.ZPlane(z0=7.72)\n",
    "z5 = openmc.ZPlane(z0=7.77)\n",
    "z6 = openmc.ZPlane(z0=8.00)\n",
    "\n",
    "s = openmc.Sphere(r=11, boundary_type='vacuum')"
   ]
  },
  {
   "cell_type": "code",
   "execution_count": 157,
   "id": "e2967c88",
   "metadata": {},
   "outputs": [],
   "source": [
    "# Defining cells\n",
    "sodium_iodide_crystal = openmc.Cell()\n",
    "sodium_iodide_crystal.region = -c1 & -z4 & +z3\n",
    "sodium_iodide_crystal.fill = sodium_iodide\n",
    "\n",
    "aluminum_casing = openmc.Cell()\n",
    "aluminum_casing.region = (+c2 & -c3 & -z4 & +z2) | (-c3 & -z2 & +z1)\n",
    "aluminum_casing.fill = aluminum\n",
    "\n",
    "oxide_layer = openmc.Cell()\n",
    "oxide_layer.region = (+c1 & -c2 &-z4 & +z2) | (-c2 & -z3 & +z2)\n",
    "oxide_layer.fill = aluminum_oxide\n",
    "\n",
    "detector_back = openmc.Cell()\n",
    "detector_back.region = -c3 & -z6 & +z4\n",
    "detector_back.fill = iron\n",
    "\n",
    "surrounding = openmc.Cell()\n",
    "surrounding.region = -s & ~(-c3 & -z6 & +z1)"
   ]
  },
  {
   "cell_type": "code",
   "execution_count": 158,
   "id": "2b1bbcbf",
   "metadata": {},
   "outputs": [],
   "source": [
    "universe = openmc.Universe(cells=[sodium_iodide_crystal, aluminum_casing, oxide_layer, oxide_layer, detector_back, surrounding])\n",
    "geometry = openmc.Geometry(universe)\n",
    "geometry.export_to_xml()"
   ]
  },
  {
   "cell_type": "markdown",
   "id": "ad363462",
   "metadata": {},
   "source": [
    "# Définition de la source "
   ]
  },
  {
   "cell_type": "code",
   "execution_count": 159,
   "id": "61cc7268",
   "metadata": {},
   "outputs": [
    {
     "name": "stderr",
     "output_type": "stream",
     "text": [
      "/opt/anaconda3/envs/openmc-ppm/lib/python3.11/site-packages/openmc/source.py:658: FutureWarning: This class is deprecated in favor of 'IndependentSource'\n",
      "  warnings.warn(\"This class is deprecated in favor of 'IndependentSource'\", FutureWarning)\n"
     ]
    }
   ],
   "source": [
    "source_1 = openmc.Source()\n",
    "source_1.space = openmc.stats.Point((0.0, 0.0, -10.0))\n",
    "source_1.angle = openmc.stats.Monodirectional([0.0, 0.0, 1.0])\n",
    "source_1.energy = openmc.stats.Discrete([800_000.0], [1.0])\n",
    "\n",
    "source_1.strength = 1e6\n",
    "source_1.particle = 'photon'"
   ]
  },
  {
   "cell_type": "code",
   "execution_count": 160,
   "id": "77135199",
   "metadata": {},
   "outputs": [],
   "source": [
    "\n",
    "\n",
    "source_2_Cs137 = openmc.Source()\n",
    "source_2_Cs137.space = openmc.stats.Point((-1.0, 0.0, 0.0))\n",
    "source_2_Cs137.angle = openmc.stats.Isotropic()\n",
    "source_2_Cs137.energy = openmc.stats.Discrete([661_700], [1.0])\n",
    "source_2_Cs137.particle = 'photon'\n"
   ]
  },
  {
   "cell_type": "code",
   "execution_count": 161,
   "id": "83b07bc4",
   "metadata": {},
   "outputs": [],
   "source": [
    "settings = openmc.Settings()\n",
    "settings.particles = 10**3\n",
    "settings.batches = 10\n",
    "settings.photon_transport = True\n",
    "settings.source = [source_1, source_2_Cs137]\n",
    "settings.run_mode = 'fixed source'\n",
    "settings.export_to_xml()"
   ]
  },
  {
   "cell_type": "code",
   "execution_count": 162,
   "id": "c5dd48dc",
   "metadata": {},
   "outputs": [],
   "source": [
    "tallies = openmc.Tallies()\n",
    "\n",
    "energy_bins = np.linspace(0, 1e6, 1001)\n",
    "energy_filter = openmc.EnergyFilter(energy_bins)\n",
    "cell_filter = openmc.CellFilter(sodium_iodide_crystal)\n",
    "\n",
    "tally = openmc.Tally(name='pulse-height')\n",
    "tally.filters = [cell_filter, energy_filter]\n",
    "tally.scores = ['pulse-height']\n",
    "tallies.append(tally)\n",
    "tallies.export_to_xml()"
   ]
  },
  {
   "cell_type": "code",
   "execution_count": 163,
   "id": "beac29c9",
   "metadata": {},
   "outputs": [
    {
     "name": "stderr",
     "output_type": "stream",
     "text": [
      "python(10009) MallocStackLogging: can't turn off malloc stack logging because it was not enabled.\n"
     ]
    },
    {
     "name": "stdout",
     "output_type": "stream",
     "text": [
      "                                %%%%%%%%%%%%%%%\n",
      "                           %%%%%%%%%%%%%%%%%%%%%%%%\n",
      "                        %%%%%%%%%%%%%%%%%%%%%%%%%%%%%%\n",
      "                      %%%%%%%%%%%%%%%%%%%%%%%%%%%%%%%%%%\n",
      "                    %%%%%%%%%%%%%%%%%%%%%%%%%%%%%%%%%%%%%%\n",
      "                   %%%%%%%%%%%%%%%%%%%%%%%%%%%%%%%%%%%%%%%%\n",
      "                                    %%%%%%%%%%%%%%%%%%%%%%%%\n",
      "                                     %%%%%%%%%%%%%%%%%%%%%%%%\n",
      "                 ###############      %%%%%%%%%%%%%%%%%%%%%%%%\n",
      "                ##################     %%%%%%%%%%%%%%%%%%%%%%%\n",
      "                ###################     %%%%%%%%%%%%%%%%%%%%%%%\n",
      "                ####################     %%%%%%%%%%%%%%%%%%%%%%\n",
      "                #####################     %%%%%%%%%%%%%%%%%%%%%\n",
      "                ######################     %%%%%%%%%%%%%%%%%%%%\n",
      "                #######################     %%%%%%%%%%%%%%%%%%\n",
      "                 #######################     %%%%%%%%%%%%%%%%%\n",
      "                 ######################     %%%%%%%%%%%%%%%%%\n",
      "                  ####################     %%%%%%%%%%%%%%%%%\n",
      "                    #################     %%%%%%%%%%%%%%%%%\n",
      "                     ###############     %%%%%%%%%%%%%%%%\n",
      "                       ############     %%%%%%%%%%%%%%%\n",
      "                          ########     %%%%%%%%%%%%%%\n",
      "                                      %%%%%%%%%%%\n",
      "\n",
      "                 | The OpenMC Monte Carlo Code\n",
      "       Copyright | 2011-2025 MIT, UChicago Argonne LLC, and contributors\n",
      "         License | https://docs.openmc.org/en/latest/license.html\n",
      "         Version | 0.15.2\n",
      "     Commit Hash | e23760b0264c66fb7bb373aa0596801e5209d920\n",
      "       Date/Time | 2025-05-25 17:48:56\n",
      "  OpenMP Threads | 4\n",
      "\n",
      " Reading settings XML file...\n",
      " Reading cross sections XML file...\n",
      " Reading chain file: ./chain_simple.xml...\n",
      " Reading materials XML file...\n",
      " Reading geometry XML file...\n",
      " Reading Al27 from /Users/simonfoucambert/endfb-viii.0-hdf5/neutron/Al27.h5\n",
      " Reading Al from /Users/simonfoucambert/endfb-viii.0-hdf5/photon/Al.h5 \n",
      " Reading Na23 from /Users/simonfoucambert/endfb-viii.0-hdf5/neutron/Na23.h5\n",
      " Reading Na from /Users/simonfoucambert/endfb-viii.0-hdf5/photon/Na.h5 \n",
      " Reading I127 from /Users/simonfoucambert/endfb-viii.0-hdf5/neutron/I127.h5\n",
      " Reading I from /Users/simonfoucambert/endfb-viii.0-hdf5/photon/I.h5 \n",
      " Reading O16 from /Users/simonfoucambert/endfb-viii.0-hdf5/neutron/O16.h5\n",
      " Reading O from /Users/simonfoucambert/endfb-viii.0-hdf5/photon/O.h5 \n",
      " Reading Fe54 from /Users/simonfoucambert/endfb-viii.0-hdf5/neutron/Fe54.h5\n",
      " Reading Fe from /Users/simonfoucambert/endfb-viii.0-hdf5/photon/Fe.h5 \n",
      " Reading Fe56 from /Users/simonfoucambert/endfb-viii.0-hdf5/neutron/Fe56.h5\n",
      " Reading Fe57 from /Users/simonfoucambert/endfb-viii.0-hdf5/neutron/Fe57.h5\n",
      " Reading Fe58 from /Users/simonfoucambert/endfb-viii.0-hdf5/neutron/Fe58.h5\n",
      " Minimum neutron data temperature: 294 K\n",
      " Maximum neutron data temperature: 294 K\n",
      " Reading tallies XML file...\n",
      " Preparing distributed cell instances...\n",
      " Reading plot XML file...\n",
      " Writing summary.h5 file...\n",
      " Maximum neutron transport energy: 20000000 eV for Na23\n",
      "\n",
      " ===============>     FIXED SOURCE TRANSPORT SIMULATION     <===============\n",
      "\n",
      " Simulating batch 1\n"
     ]
    },
    {
     "ename": "KeyboardInterrupt",
     "evalue": "",
     "output_type": "error",
     "traceback": [
      "\u001b[31m---------------------------------------------------------------------------\u001b[39m",
      "\u001b[31mKeyboardInterrupt\u001b[39m                         Traceback (most recent call last)",
      "\u001b[36mCell\u001b[39m\u001b[36m \u001b[39m\u001b[32mIn[163]\u001b[39m\u001b[32m, line 1\u001b[39m\n\u001b[32m----> \u001b[39m\u001b[32m1\u001b[39m \u001b[43mopenmc\u001b[49m\u001b[43m.\u001b[49m\u001b[43mrun\u001b[49m\u001b[43m(\u001b[49m\u001b[43m)\u001b[49m\n",
      "\u001b[36mFile \u001b[39m\u001b[32m/opt/anaconda3/envs/openmc-ppm/lib/python3.11/site-packages/openmc/executor.py:314\u001b[39m, in \u001b[36mrun\u001b[39m\u001b[34m(particles, threads, geometry_debug, restart_file, tracks, output, cwd, openmc_exec, mpi_args, event_based, path_input)\u001b[39m\n\u001b[32m    261\u001b[39m \u001b[38;5;250m\u001b[39m\u001b[33;03m\"\"\"Run an OpenMC simulation.\u001b[39;00m\n\u001b[32m    262\u001b[39m \n\u001b[32m    263\u001b[39m \u001b[33;03mParameters\u001b[39;00m\n\u001b[32m   (...)\u001b[39m\u001b[32m    305\u001b[39m \n\u001b[32m    306\u001b[39m \u001b[33;03m\"\"\"\u001b[39;00m\n\u001b[32m    308\u001b[39m args = _process_CLI_arguments(\n\u001b[32m    309\u001b[39m     volume=\u001b[38;5;28;01mFalse\u001b[39;00m, geometry_debug=geometry_debug, particles=particles,\n\u001b[32m    310\u001b[39m     restart_file=restart_file, threads=threads, tracks=tracks,\n\u001b[32m    311\u001b[39m     event_based=event_based, openmc_exec=openmc_exec, mpi_args=mpi_args,\n\u001b[32m    312\u001b[39m     path_input=path_input)\n\u001b[32m--> \u001b[39m\u001b[32m314\u001b[39m \u001b[43m_run\u001b[49m\u001b[43m(\u001b[49m\u001b[43margs\u001b[49m\u001b[43m,\u001b[49m\u001b[43m \u001b[49m\u001b[43moutput\u001b[49m\u001b[43m,\u001b[49m\u001b[43m \u001b[49m\u001b[43mcwd\u001b[49m\u001b[43m)\u001b[49m\n",
      "\u001b[36mFile \u001b[39m\u001b[32m/opt/anaconda3/envs/openmc-ppm/lib/python3.11/site-packages/openmc/executor.py:104\u001b[39m, in \u001b[36m_run\u001b[39m\u001b[34m(args, output, cwd)\u001b[39m\n\u001b[32m    101\u001b[39m lines = []\n\u001b[32m    102\u001b[39m \u001b[38;5;28;01mwhile\u001b[39;00m \u001b[38;5;28;01mTrue\u001b[39;00m:\n\u001b[32m    103\u001b[39m     \u001b[38;5;66;03m# If OpenMC is finished, break loop\u001b[39;00m\n\u001b[32m--> \u001b[39m\u001b[32m104\u001b[39m     line = p.stdout.readline()\n\u001b[32m    105\u001b[39m     \u001b[38;5;28;01mif\u001b[39;00m \u001b[38;5;129;01mnot\u001b[39;00m line \u001b[38;5;129;01mand\u001b[39;00m p.poll() \u001b[38;5;129;01mis\u001b[39;00m \u001b[38;5;129;01mnot\u001b[39;00m \u001b[38;5;28;01mNone\u001b[39;00m:\n\u001b[32m    106\u001b[39m         \u001b[38;5;28;01mbreak\u001b[39;00m\n",
      "\u001b[31mKeyboardInterrupt\u001b[39m: "
     ]
    }
   ],
   "source": [
    "openmc.run()"
   ]
  },
  {
   "cell_type": "code",
   "execution_count": null,
   "id": "f0db476d",
   "metadata": {},
   "outputs": [],
   "source": [
    "sp = openmc.StatePoint('statepoint.10.h5')\n",
    "tally = sp.get_tally(name='pulse-height')\n",
    "pulse_height_values = tally.get_values(scores=['pulse-height']).flatten()"
   ]
  },
  {
   "cell_type": "code",
   "execution_count": null,
   "id": "5494694e",
   "metadata": {},
   "outputs": [
    {
     "data": {
      "image/png": "[encoded data removed]",
      "text/plain": [
       "<Figure size 640x480 with 1 Axes>"
      ]
     },
     "metadata": {},
     "output_type": "display_data"
    }
   ],
   "source": [
    "# we want to display the pulse-height value in the center of the bin\n",
    "energy_bin_centers = energy_bins[1:] + 0.5 * (energy_bins[1] - energy_bins[0])\n",
    "\n",
    "plt.figure()\n",
    "plt.semilogy(energy_bin_centers, pulse_height_values)\n",
    "\n",
    "# plot the strongest sources as vertical lines\n",
    "plt.axvline(x=800_000, color=\"red\", ls=\":\")     # source_1\n",
    "plt.axvline(x=661_700, color=\"red\", ls=\":\")     # source_2\n",
    "\n",
    "plt.xlabel('Energy [eV]')\n",
    "plt.ylabel('Counts')\n",
    "plt.title('Pulse Height Values')\n",
    "plt.grid(True)\n",
    "plt.tight_layout()"
   ]
  }
 ],
 "metadata": {
  "kernelspec": {
   "display_name": "openmc-ppm",
   "language": "python",
   "name": "python3"
  },
  "language_info": {
   "codemirror_mode": {
    "name": "ipython",
    "version": 3
   },
   "file_extension": ".py",
   "mimetype": "text/x-python",
   "name": "python",
   "nbconvert_exporter": "python",
   "pygments_lexer": "ipython3",
   "version": "3.11.12"
  }
 },
 "nbformat": 4,
 "nbformat_minor": 5
}
