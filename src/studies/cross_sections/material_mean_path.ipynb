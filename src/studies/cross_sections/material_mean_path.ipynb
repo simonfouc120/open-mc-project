{
 "cells": [
  {
   "cell_type": "code",
   "execution_count": 1,
   "id": "0f48a1a1",
   "metadata": {},
   "outputs": [],
   "source": [
    "import openmc\n",
    "import numpy as np\n",
    "import matplotlib.pyplot as plt\n",
    "from pathlib import Path\n",
    "import sys\n",
    "\n",
    "CWD = Path.cwd().resolve()\n",
    "project_root = Path.cwd().parents[2]\n",
    "sys.path.append(str(project_root))\n",
    "from parameters.parameters_paths import PATH_TO_CROSS_SECTIONS\n",
    "openmc.config['cross_sections'] = PATH_TO_CROSS_SECTIONS\n"
   ]
  },
  {
   "cell_type": "code",
   "execution_count": 2,
   "id": "6f561c4a",
   "metadata": {},
   "outputs": [],
   "source": [
    "from parameters.parameters_materials import CONCRETE_MATERIAL"
   ]
  },
  {
   "cell_type": "code",
   "execution_count": null,
   "id": "6616b712",
   "metadata": {},
   "outputs": [
    {
     "ename": "TypeError",
     "evalue": "Material._get_macroscopic_xml() got an unexpected keyword argument 'energy'",
     "output_type": "error",
     "traceback": [
      "\u001b[31m---------------------------------------------------------------------------\u001b[39m",
      "\u001b[31mTypeError\u001b[39m                                 Traceback (most recent call last)",
      "\u001b[36mCell\u001b[39m\u001b[36m \u001b[39m\u001b[32mIn[4]\u001b[39m\u001b[32m, line 6\u001b[39m\n\u001b[32m      3\u001b[39m mat1.add_element(\u001b[33m'\u001b[39m\u001b[33mC\u001b[39m\u001b[33m'\u001b[39m, \u001b[32m0.025\u001b[39m)\n\u001b[32m      4\u001b[39m mat1.set_density(\u001b[33m'\u001b[39m\u001b[33mg/cm3\u001b[39m\u001b[33m'\u001b[39m, \u001b[32m7.7\u001b[39m)\n\u001b[32m----> \u001b[39m\u001b[32m6\u001b[39m mean_free_path_14 = \u001b[43mmat1\u001b[49m\u001b[43m.\u001b[49m\u001b[43m_get_macroscopic_xml\u001b[49m\u001b[43m(\u001b[49m\u001b[43menergy\u001b[49m\u001b[43m=\u001b[49m\u001b[32;43m14e6\u001b[39;49m\u001b[43m)\u001b[49m\n\u001b[32m      7\u001b[39m mean_free_path_thermal = mat1.mean_free_path(energy=\u001b[32m0.025\u001b[39m)\n\u001b[32m      9\u001b[39m \u001b[38;5;28mprint\u001b[39m(\u001b[33mf\u001b[39m\u001b[33m'\u001b[39m\u001b[33mMean free path of a neutron in \u001b[39m\u001b[38;5;132;01m{\u001b[39;00mmat1.name\u001b[38;5;132;01m}\u001b[39;00m\u001b[33m at 14e6 eV = \u001b[39m\u001b[38;5;132;01m{\u001b[39;00mmean_free_path_14\u001b[38;5;132;01m:\u001b[39;00m\u001b[33m.4f\u001b[39m\u001b[38;5;132;01m}\u001b[39;00m\u001b[33m cm\u001b[39m\u001b[33m'\u001b[39m)\n",
      "\u001b[31mTypeError\u001b[39m: Material._get_macroscopic_xml() got an unexpected keyword argument 'energy'"
     ]
    }
   ],
   "source": [
    "mat1 = openmc.Material(name = 'Steel')\n",
    "mat1.add_element('Fe', 0.975)\n",
    "mat1.add_element('C', 0.025)\n",
    "mat1.set_density('g/cm3', 7.7)\n",
    "\n",
    "mean_free_path_14 = mat1.mean_free_path(energy=14e6)\n",
    "mean_free_path_thermal = mat1.mean_free_path(energy=0.025)\n",
    "\n",
    "print(f'Mean free path of a neutron in {mat1.name} at 14e6 eV = {mean_free_path_14:.4f} cm')\n",
    "print(f'Mean free path of a neutron in {mat1.name} at 0.025 eV = {mean_free_path_thermal:.4f} cm')"
   ]
  }
 ],
 "metadata": {
  "kernelspec": {
   "display_name": "openmc-arm",
   "language": "python",
   "name": "python3"
  },
  "language_info": {
   "codemirror_mode": {
    "name": "ipython",
    "version": 3
   },
   "file_extension": ".py",
   "mimetype": "text/x-python",
   "name": "python",
   "nbconvert_exporter": "python",
   "pygments_lexer": "ipython3",
   "version": "3.11.12"
  }
 },
 "nbformat": 4,
 "nbformat_minor": 5
}
