{
 "cells": [
  {
   "cell_type": "code",
   "execution_count": 83,
   "id": "81831612",
   "metadata": {},
   "outputs": [
    {
     "name": "stdout",
     "output_type": "stream",
     "text": [
      "Numbrer of isotopes of Carbon: 16\n",
      "C-8 est radioactif\n",
      "C-9 est radioactif\n",
      "C-10 est radioactif\n",
      "C-11 est radioactif\n",
      "C-12 n'est pas radioactif\n",
      "C-13 n'est pas radioactif\n",
      "C-14 est radioactif\n",
      "C-15 est radioactif\n",
      "C-16 est radioactif\n",
      "C-17 est radioactif\n",
      "C-18 est radioactif\n",
      "C-19 est radioactif\n",
      "C-20 est radioactif\n",
      "C-21 n'est pas radioactif\n",
      "C-22 est radioactif\n",
      "C-23 n'est pas radioactif\n"
     ]
    }
   ],
   "source": [
    "from mendeleev import element, isotope\n",
    "\n",
    "h = isotope(\"Cs\", 137)\n",
    "carbon = element(\"C\") # Str abec le nom de l'élément ou int avec le numéro atomique\n",
    "mass_numbers = [ isotope.mass_number for isotope in carbon.isotopes]\n",
    "print(f\"Numbrer of isotopes of Carbon: {len(mass_numbers)}\")\n",
    "for mass in mass_numbers:\n",
    "    if isotope(\"C\", mass).is_radioactive:\n",
    "        print(f\"C-{mass} est radioactif\")\n",
    "    else:\n",
    "        print(f\"C-{mass} n'est pas radioactif\")\n"
   ]
  },
  {
   "cell_type": "code",
   "execution_count": null,
   "id": "1f9cfa49",
   "metadata": {},
   "outputs": [
    {
     "data": {
      "text/plain": [
       "[<IsotopeDecayMode(id=2817, intensity=100.0, is_allowed_not_observed=None, is_observed_intensity_unknown=None, isotope_id=1738, mode='B-', relation='=')>]"
      ]
     },
     "execution_count": 74,
     "metadata": {},
     "output_type": "execute_result"
    }
   ],
   "source": [
    "h = isotope(\"Cs\", 137)"
   ]
  },
  {
   "cell_type": "code",
   "execution_count": 70,
   "id": "e762bf1f",
   "metadata": {},
   "outputs": [
    {
     "name": "stdout",
     "output_type": "stream",
     "text": [
      "Mode: B-, Intensité: 100.0\n"
     ]
    }
   ],
   "source": [
    "# Supposons que h.decay_modes retourne une liste d'objets IsotopeDecayMode\n",
    "for mode in h.decay_modes:\n",
    "    print(f\"Mode: {mode.mode}, Intensité: {mode.intensity}\")"
   ]
  }
 ],
 "metadata": {
  "kernelspec": {
   "display_name": "openmc-arm",
   "language": "python",
   "name": "python3"
  },
  "language_info": {
   "codemirror_mode": {
    "name": "ipython",
    "version": 3
   },
   "file_extension": ".py",
   "mimetype": "text/x-python",
   "name": "python",
   "nbconvert_exporter": "python",
   "pygments_lexer": "ipython3",
   "version": "3.11.12"
  }
 },
 "nbformat": 4,
 "nbformat_minor": 5
}
