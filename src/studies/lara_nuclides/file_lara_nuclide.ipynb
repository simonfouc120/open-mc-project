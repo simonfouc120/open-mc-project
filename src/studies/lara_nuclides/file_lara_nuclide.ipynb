{
 "cells": [
  {
   "cell_type": "code",
   "execution_count": 229,
   "id": "40658367",
   "metadata": {},
   "outputs": [],
   "source": [
    "import matplotlib.pyplot as plt\n",
    "import numpy as np\n",
    "\n",
    "class Radionuclide_lara:\n",
    "    def __init__(self, name):\n",
    "        self.name = name\n",
    "\n",
    "    @property\n",
    "    def radionuclide_data(self):\n",
    "        file_path = f\"{self.name}.lara.txt\"\n",
    "        rn_data = {}\n",
    "        emissions = []\n",
    "        with open(file_path, encoding='utf-8') as f:\n",
    "            lines = [line.strip() for line in f if line.strip()]\n",
    "            section = None\n",
    "            for line in lines:\n",
    "                if line.startswith('Emissions') or line.startswith('Energy (keV)'):\n",
    "                    section = 'emissions'\n",
    "                    continue\n",
    "                if section == 'emissions':\n",
    "                    if line.startswith('=') or line.startswith('-'):\n",
    "                        continue\n",
    "                    # Parse emission lines\n",
    "                    parts = [p.strip() for p in line.split(';')]\n",
    "                    if len(parts) >= 8:\n",
    "                        emissions.append({\n",
    "                            'Energy (keV)': parts[0],\n",
    "                            'Ener. unc. (keV)': parts[1],\n",
    "                            'Intensity (%)': parts[2],\n",
    "                            'Int. unc. (%)': parts[3],\n",
    "                            'Type': parts[4],\n",
    "                            'Origin': parts[5],\n",
    "                            'Lvl. start': parts[6],\n",
    "                            'Lvl. end': parts[7],\n",
    "                        })\n",
    "                else:\n",
    "                    if ';' in line:\n",
    "                        key, *values = [p.strip() for p in line.split(';')]\n",
    "                        if len(values) == 1:\n",
    "                            rn_data[key] = values[0]\n",
    "                        else:\n",
    "                            rn_data[key] = values\n",
    "        rn_data['Emissions'] = emissions\n",
    "        return rn_data\n",
    "    \n",
    "    def get_rays_emission_data(self, energy_filter=None, intensity_filter=None, photon_only=False):\n",
    "        rays_energies =  np.array([float(em['Energy (keV)']) for em in self.radionuclide_data[\"Emissions\"]])\n",
    "        rays_intensities = np.array([float(em['Intensity (%)']) for em in self.radionuclide_data[\"Emissions\"]])\n",
    "        rays_types = np.array([em['Type'] for em in self.radionuclide_data[\"Emissions\"]])\n",
    "\n",
    "        # Apply energy filter if specified\n",
    "        if energy_filter is not None:\n",
    "            mask = rays_energies >= energy_filter\n",
    "            rays_energies = rays_energies[mask]\n",
    "            rays_intensities = rays_intensities[mask]\n",
    "            rays_types = rays_types[mask]\n",
    "\n",
    "        # Apply intensity filter if specified\n",
    "        if intensity_filter is not None:\n",
    "            mask = rays_intensities >= intensity_filter\n",
    "            rays_energies = rays_energies[mask]\n",
    "            rays_intensities = rays_intensities[mask]\n",
    "            rays_types = rays_types[mask]\n",
    "\n",
    "        # Filter for photon emissions only if requested\n",
    "        if photon_only:\n",
    "            mask = np.isin(rays_types, ['g']) | np.char.startswith(rays_types, 'X')\n",
    "            rays_energies = rays_energies[mask]\n",
    "            rays_intensities = rays_intensities[mask]\n",
    "            rays_types = rays_types[mask]\n",
    "        return rays_energies, rays_intensities, rays_types\n",
    "\n",
    "    def plot_emissions(self, saving_figure:bool=False, photon_only:bool=False):\n",
    "        rays_energies, rays_intensities, rays_types = self.get_rays_emission_data(photon_only=photon_only)\n",
    "\n",
    "        gamma_rays_energies = rays_energies[rays_types == 'g']\n",
    "        gamma_rays_intensities = rays_intensities[rays_types == 'g']\n",
    "        x_rays_energies = rays_energies[np.char.startswith(rays_types, 'X')]\n",
    "        x_rays_intensities = rays_intensities[np.char.startswith(rays_types, 'X')]\n",
    "\n",
    "        alpha_rays_energies = rays_energies[rays_types == 'a']\n",
    "        alpha_rays_intensities = rays_intensities[rays_types == 'a']\n",
    "\n",
    "        if photon_only:\n",
    "            max_energy = max(\n",
    "            max(gamma_rays_energies) if len(gamma_rays_energies) > 0 else 0,\n",
    "            max(x_rays_energies) if len(x_rays_energies) > 0 else 0)\n",
    "            min_energy = min(\n",
    "            min(gamma_rays_energies) if len(gamma_rays_energies) > 0 else 0,\n",
    "            min(x_rays_energies) if len(x_rays_energies) > 0 else 0)\n",
    "        else:\n",
    "            max_energy = max(\n",
    "                max(gamma_rays_energies) if len(gamma_rays_energies) > 0 else 0,\n",
    "                max(x_rays_energies) if len(x_rays_energies) > 0 else 0,\n",
    "                max(alpha_rays_energies) if len(alpha_rays_energies) > 0 else 0)\n",
    "            min_energy = min(\n",
    "                min(gamma_rays_energies) if len(gamma_rays_energies) > 0 else 0,\n",
    "                min(x_rays_energies) if len(x_rays_energies) > 0 else 0,\n",
    "                min(alpha_rays_energies) if len(alpha_rays_energies) > 0 else 0)\n",
    "\n",
    "        delta_energy = max_energy - min_energy\n",
    "        width = delta_energy // 110 if delta_energy > 0 else 1\n",
    "        if len(gamma_rays_energies) != 0:\n",
    "            plt.bar(gamma_rays_energies, gamma_rays_intensities, width=width, label ='Gamma Emissions', color='blue', alpha=1)\n",
    "        if len(x_rays_energies) != 0:\n",
    "            plt.bar(x_rays_energies, x_rays_intensities, width=width, label ='X Emissions', color='orange', alpha=1)\n",
    "        if len(alpha_rays_energies) != 0:\n",
    "            plt.bar(alpha_rays_energies, alpha_rays_intensities, width=width, label ='Alpha Emissions', color='green', alpha=1)\n",
    "        plt.xlabel('Energy [keV]')\n",
    "        plt.ylabel('Intensity [%]')\n",
    "        plt.title(f'Emissions of {self.name}')\n",
    "        plt.yscale('log')\n",
    "        plt.grid()\n",
    "        plt.legend()\n",
    "        plt.savefig(f\"{self.name}_emissions.png\") if saving_figure else None\n",
    "        plt.show()"
   ]
  },
  {
   "cell_type": "code",
   "execution_count": 230,
   "id": "4e21d5ed",
   "metadata": {},
   "outputs": [
    {
     "name": "stdout",
     "output_type": "stream",
     "text": [
      "Cf-252\n",
      "{'Nuclide': 'Cf-252', 'Element': 'Californium', 'Z': '98', 'Daughter(s)': ['(alpha)', 'Cm-248', '96.914'], 'Qalpha': '6216.87', 'Half-life (a)': ['2.6470', '0.0026'], 'Half-life (s)': ['83.53E6', '0.08E6'], 'Decay constant (1/s)': ['8.298E-9', '0.008E-9'], 'Specific activity (Bq/g)': ['19.830E12', '0.019E12'], 'Reference': 'CEA/LNE-LNHB - 2007', 'Emissions': [{'Energy (keV)': '17.9765', 'Ener. unc. (keV)': '', 'Intensity (%)': '6.07', 'Int. unc. (%)': '0.14', 'Type': 'XL', 'Origin': 'Cm-248', 'Lvl. start': '', 'Lvl. end': ''}, {'Energy (keV)': '43.399', 'Ener. unc. (keV)': '0.025', 'Intensity (%)': '0.0152', 'Int. unc. (%)': '0.0004', 'Type': 'g', 'Origin': 'Cm-248', 'Lvl. start': '1', 'Lvl. end': '0'}, {'Energy (keV)': '100.2', 'Ener. unc. (keV)': '0.4', 'Intensity (%)': '0.0119', 'Int. unc. (%)': '0.0020', 'Type': 'g', 'Origin': 'Cm-248', 'Lvl. start': '2', 'Lvl. end': '1'}, {'Energy (keV)': '104.59', 'Ener. unc. (keV)': '', 'Intensity (%)': '0.0000257', 'Int. unc. (%)': '0.0000007', 'Type': 'XKa2', 'Origin': 'Cm-248', 'Lvl. start': '', 'Lvl. end': ''}, {'Energy (keV)': '109.271', 'Ener. unc. (keV)': '', 'Intensity (%)': '0.0000402', 'Int. unc. (%)': '0.0000011', 'Type': 'XKa1', 'Origin': 'Cm-248', 'Lvl. start': '', 'Lvl. end': ''}, {'Energy (keV)': '123.277', 'Ener. unc. (keV)': '', 'Intensity (%)': '0.0000151', 'Int. unc. (%)': '0.0000005', 'Type': \"XK'b1\", 'Origin': 'Cm-248', 'Lvl. start': '', 'Lvl. end': ''}, {'Energy (keV)': '127.4037', 'Ener. unc. (keV)': '', 'Intensity (%)': '0.00000530', 'Int. unc. (%)': '0.00000019', 'Type': \"XK'b2\", 'Origin': 'Cm-248', 'Lvl. start': '', 'Lvl. end': ''}, {'Energy (keV)': '154.5', 'Ener. unc. (keV)': '0.6', 'Intensity (%)': '0.00051', 'Int. unc. (%)': '', 'Type': 'g', 'Origin': 'Cm-248', 'Lvl. start': '3', 'Lvl. end': '2'}, {'Energy (keV)': '5826.3', 'Ener. unc. (keV)': '', 'Intensity (%)': '0.0019', 'Int. unc. (%)': '', 'Type': 'a', 'Origin': 'Cf-252', 'Lvl. start': '0', 'Lvl. end': '3'}, {'Energy (keV)': '5976.6', 'Ener. unc. (keV)': '', 'Intensity (%)': '0.23', 'Int. unc. (%)': '0.04', 'Type': 'a', 'Origin': 'Cf-252', 'Lvl. start': '0', 'Lvl. end': '2'}, {'Energy (keV)': '6075.64', 'Ener. unc. (keV)': '0.11', 'Intensity (%)': '15.1', 'Int. unc. (%)': '0.3', 'Type': 'a', 'Origin': 'Cf-252', 'Lvl. start': '0', 'Lvl. end': '1'}, {'Energy (keV)': '6118.1', 'Ener. unc. (keV)': '0.1', 'Intensity (%)': '81.7', 'Int. unc. (%)': '0.3', 'Type': 'a', 'Origin': 'Cf-252', 'Lvl. start': '0', 'Lvl. end': '0'}]}\n"
     ]
    }
   ],
   "source": [
    "cobalt = Radionuclide_lara(\"Cf-252\")\n",
    "print(cobalt.name)\n",
    "print(cobalt.radionuclide_data)\n"
   ]
  },
  {
   "cell_type": "code",
   "execution_count": null,
   "id": "8761d450",
   "metadata": {},
   "outputs": [
    {
     "data": {
      "image/png": "[encoded data removed]",
      "text/plain": [
       "<Figure size 640x480 with 1 Axes>"
      ]
     },
     "metadata": {},
     "output_type": "display_data"
    }
   ],
   "source": [
    "cobalt.plot_emissions(saving_figure=True, photon_only=True)"
   ]
  },
  {
   "cell_type": "markdown",
   "id": "fe083e8a",
   "metadata": {},
   "source": [
    "methode pour retourner deux listes des énergies de photon avec intensité avec filtre en énergie et intensité<>"
   ]
  },
  {
   "cell_type": "code",
   "execution_count": null,
   "id": "e3fc0948",
   "metadata": {},
   "outputs": [
    {
     "data": {
      "text/plain": [
       "(array([  17.9765,   43.399 ,  100.2   ,  154.5   , 5826.3   , 5976.6   ,\n",
       "        6075.64  , 6118.1   ]),\n",
       " array([6.07e+00, 1.52e-02, 1.19e-02, 5.10e-04, 1.90e-03, 2.30e-01,\n",
       "        1.51e+01, 8.17e+01]),\n",
       " array(['XL', 'g', 'g', 'g', 'a', 'a', 'a', 'a'], dtype='<U5'))"
      ]
     },
     "execution_count": 228,
     "metadata": {},
     "output_type": "execute_result"
    }
   ],
   "source": []
  }
 ],
 "metadata": {
  "kernelspec": {
   "display_name": "openmc-arm",
   "language": "python",
   "name": "python3"
  },
  "language_info": {
   "codemirror_mode": {
    "name": "ipython",
    "version": 3
   },
   "file_extension": ".py",
   "mimetype": "text/x-python",
   "name": "python",
   "nbconvert_exporter": "python",
   "pygments_lexer": "ipython3",
   "version": "3.11.12"
  }
 },
 "nbformat": 4,
 "nbformat_minor": 5
}
