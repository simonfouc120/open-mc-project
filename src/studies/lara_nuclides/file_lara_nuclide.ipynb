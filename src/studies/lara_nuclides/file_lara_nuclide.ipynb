{
 "cells": [
  {
   "cell_type": "code",
   "execution_count": 229,
   "id": "40658367",
   "metadata": {},
   "outputs": [],
   "source": [
    "import matplotlib.pyplot as plt\n",
    "import numpy as np\n",
    "\n",
    "class Radionuclide_lara:\n",
    "    def __init__(self, name):\n",
    "        self.name = name\n",
    "\n",
    "    @property\n",
    "    def radionuclide_data(self):\n",
    "        file_path = f\"{self.name}.lara.txt\"\n",
    "        rn_data = {}\n",
    "        emissions = []\n",
    "        with open(file_path, encoding='utf-8') as f:\n",
    "            lines = [line.strip() for line in f if line.strip()]\n",
    "            section = None\n",
    "            for line in lines:\n",
    "                if line.startswith('Emissions') or line.startswith('Energy (keV)'):\n",
    "                    section = 'emissions'\n",
    "                    continue\n",
    "                if section == 'emissions':\n",
    "                    if line.startswith('=') or line.startswith('-'):\n",
    "                        continue\n",
    "                    # Parse emission lines\n",
    "                    parts = [p.strip() for p in line.split(';')]\n",
    "                    if len(parts) >= 8:\n",
    "                        emissions.append({\n",
    "                            'Energy (keV)': parts[0],\n",
    "                            'Ener. unc. (keV)': parts[1],\n",
    "                            'Intensity (%)': parts[2],\n",
    "                            'Int. unc. (%)': parts[3],\n",
    "                            'Type': parts[4],\n",
    "                            'Origin': parts[5],\n",
    "                            'Lvl. start': parts[6],\n",
    "                            'Lvl. end': parts[7],\n",
    "                        })\n",
    "                else:\n",
    "                    if ';' in line:\n",
    "                        key, *values = [p.strip() for p in line.split(';')]\n",
    "                        if len(values) == 1:\n",
    "                            rn_data[key] = values[0]\n",
    "                        else:\n",
    "                            rn_data[key] = values\n",
    "        rn_data['Emissions'] = emissions\n",
    "        return rn_data\n",
    "    \n",
    "    def get_rays_emission_data(self, energy_filter=None, intensity_filter=None, photon_only=False):\n",
    "        rays_energies =  np.array([float(em['Energy (keV)']) for em in self.radionuclide_data[\"Emissions\"]])\n",
    "        rays_intensities = np.array([float(em['Intensity (%)']) for em in self.radionuclide_data[\"Emissions\"]])\n",
    "        rays_types = np.array([em['Type'] for em in self.radionuclide_data[\"Emissions\"]])\n",
    "\n",
    "        # Apply energy filter if specified\n",
    "        if energy_filter is not None:\n",
    "            mask = rays_energies >= energy_filter\n",
    "            rays_energies = rays_energies[mask]\n",
    "            rays_intensities = rays_intensities[mask]\n",
    "            rays_types = rays_types[mask]\n",
    "\n",
    "        # Apply intensity filter if specified\n",
    "        if intensity_filter is not None:\n",
    "            mask = rays_intensities >= intensity_filter\n",
    "            rays_energies = rays_energies[mask]\n",
    "            rays_intensities = rays_intensities[mask]\n",
    "            rays_types = rays_types[mask]\n",
    "\n",
    "        # Filter for photon emissions only if requested\n",
    "        if photon_only:\n",
    "            mask = np.isin(rays_types, ['g']) | np.char.startswith(rays_types, 'X')\n",
    "            rays_energies = rays_energies[mask]\n",
    "            rays_intensities = rays_intensities[mask]\n",
    "            rays_types = rays_types[mask]\n",
    "        return rays_energies, rays_intensities, rays_types\n",
    "\n",
    "    def plot_emissions(self, saving_figure:bool=False, photon_only:bool=False):\n",
    "        rays_energies, rays_intensities, rays_types = self.get_rays_emission_data(photon_only=photon_only)\n",
    "\n",
    "        gamma_rays_energies = rays_energies[rays_types == 'g']\n",
    "        gamma_rays_intensities = rays_intensities[rays_types == 'g']\n",
    "        x_rays_energies = rays_energies[np.char.startswith(rays_types, 'X')]\n",
    "        x_rays_intensities = rays_intensities[np.char.startswith(rays_types, 'X')]\n",
    "\n",
    "        alpha_rays_energies = rays_energies[rays_types == 'a']\n",
    "        alpha_rays_intensities = rays_intensities[rays_types == 'a']\n",
    "\n",
    "        if photon_only:\n",
    "            max_energy = max(\n",
    "            max(gamma_rays_energies) if len(gamma_rays_energies) > 0 else 0,\n",
    "            max(x_rays_energies) if len(x_rays_energies) > 0 else 0)\n",
    "            min_energy = min(\n",
    "            min(gamma_rays_energies) if len(gamma_rays_energies) > 0 else 0,\n",
    "            min(x_rays_energies) if len(x_rays_energies) > 0 else 0)\n",
    "        else:\n",
    "            max_energy = max(\n",
    "                max(gamma_rays_energies) if len(gamma_rays_energies) > 0 else 0,\n",
    "                max(x_rays_energies) if len(x_rays_energies) > 0 else 0,\n",
    "                max(alpha_rays_energies) if len(alpha_rays_energies) > 0 else 0)\n",
    "            min_energy = min(\n",
    "                min(gamma_rays_energies) if len(gamma_rays_energies) > 0 else 0,\n",
    "                min(x_rays_energies) if len(x_rays_energies) > 0 else 0,\n",
    "                min(alpha_rays_energies) if len(alpha_rays_energies) > 0 else 0)\n",
    "\n",
    "        delta_energy = max_energy - min_energy\n",
    "        width = delta_energy // 110 if delta_energy > 0 else 1\n",
    "        if len(gamma_rays_energies) != 0:\n",
    "            plt.bar(gamma_rays_energies, gamma_rays_intensities, width=width, label ='Gamma Emissions', color='blue', alpha=1)\n",
    "        if len(x_rays_energies) != 0:\n",
    "            plt.bar(x_rays_energies, x_rays_intensities, width=width, label ='X Emissions', color='orange', alpha=1)\n",
    "        if len(alpha_rays_energies) != 0:\n",
    "            plt.bar(alpha_rays_energies, alpha_rays_intensities, width=width, label ='Alpha Emissions', color='green', alpha=1)\n",
    "        plt.xlabel('Energy [keV]')\n",
    "        plt.ylabel('Intensity [%]')\n",
    "        plt.title(f'Emissions of {self.name}')\n",
    "        plt.yscale('log')\n",
    "        plt.grid()\n",
    "        plt.legend()\n",
    "        plt.savefig(f\"{self.name}_emissions.png\") if saving_figure else None\n",
    "        plt.show()"
   ]
  },
  {
   "cell_type": "code",
   "execution_count": 233,
   "id": "4e21d5ed",
   "metadata": {},
   "outputs": [
    {
     "name": "stdout",
     "output_type": "stream",
     "text": [
      "Co-60\n",
      "{'Nuclide': 'Co-60', 'Element': 'Cobalt', 'Z': '27', 'Daughter(s)': ['(B-)', 'Ni-60', '100'], 'Q-': '2823.07', 'Possible parent(s)': ['(I.T.)', 'Co-60m', '99.75'], 'Half-life (a)': ['5.2711', '0.0008'], 'Half-life (s)': ['166.340E6', '0.025E6'], 'Decay constant (1/s)': ['4.1671E-9', '0.0006E-9'], 'Specific activity (Bq/g)': ['41.824E12', '0.006E12'], 'Reference': 'INEEL - 2006', 'Emissions': [{'Energy (keV)': '0.84', 'Ener. unc. (keV)': '', 'Intensity (%)': '0.0002', 'Int. unc. (%)': '', 'Type': 'XL', 'Origin': 'Ni-60', 'Lvl. start': '', 'Lvl. end': ''}, {'Energy (keV)': '7.46097', 'Ener. unc. (keV)': '', 'Intensity (%)': '0.00334', 'Int. unc. (%)': '0.00012', 'Type': 'XKa2', 'Origin': 'Ni-60', 'Lvl. start': '', 'Lvl. end': ''}, {'Energy (keV)': '7.47824', 'Ener. unc. (keV)': '', 'Intensity (%)': '0.0065', 'Int. unc. (%)': '0.0003', 'Type': 'XKa1', 'Origin': 'Ni-60', 'Lvl. start': '', 'Lvl. end': ''}, {'Energy (keV)': '8.2967', 'Ener. unc. (keV)': '', 'Intensity (%)': '0.00136', 'Int. unc. (%)': '0.00005', 'Type': \"XK'b1\", 'Origin': 'Ni-60', 'Lvl. start': '', 'Lvl. end': ''}, {'Energy (keV)': '347.14', 'Ener. unc. (keV)': '0.07', 'Intensity (%)': '0.0075', 'Int. unc. (%)': '0.0004', 'Type': 'g', 'Origin': 'Ni-60', 'Lvl. start': '3', 'Lvl. end': '2'}, {'Energy (keV)': '826.10', 'Ener. unc. (keV)': '0.03', 'Intensity (%)': '0.0076', 'Int. unc. (%)': '0.0008', 'Type': 'g', 'Origin': 'Ni-60', 'Lvl. start': '2', 'Lvl. end': '1'}, {'Energy (keV)': '1173.228', 'Ener. unc. (keV)': '0.003', 'Intensity (%)': '99.85', 'Int. unc. (%)': '0.03', 'Type': 'g', 'Origin': 'Ni-60', 'Lvl. start': '3', 'Lvl. end': '1'}, {'Energy (keV)': '1332.492', 'Ener. unc. (keV)': '0.004', 'Intensity (%)': '99.9826', 'Int. unc. (%)': '0.0006', 'Type': 'g', 'Origin': 'Ni-60', 'Lvl. start': '1', 'Lvl. end': '0'}, {'Energy (keV)': '2158.57', 'Ener. unc. (keV)': '0.03', 'Intensity (%)': '0.0012', 'Int. unc. (%)': '0.0002', 'Type': 'g', 'Origin': 'Ni-60', 'Lvl. start': '2', 'Lvl. end': '0'}, {'Energy (keV)': '2505.692', 'Ener. unc. (keV)': '0.005', 'Intensity (%)': '0.0000020', 'Int. unc. (%)': '0.0000004', 'Type': 'g', 'Origin': 'Ni-60', 'Lvl. start': '3', 'Lvl. end': '0'}]}\n"
     ]
    }
   ],
   "source": [
    "cobalt = Radionuclide_lara(\"Co-60\")\n",
    "print(cobalt.name)\n",
    "print(cobalt.radionuclide_data)\n"
   ]
  },
  {
   "cell_type": "code",
   "execution_count": 235,
   "id": "8761d450",
   "metadata": {},
   "outputs": [
    {
     "data": {
      "image/png": "[encoded data removed]",
      "text/plain": [
       "<Figure size 640x480 with 1 Axes>"
      ]
     },
     "metadata": {},
     "output_type": "display_data"
    }
   ],
   "source": [
    "cobalt.plot_emissions(saving_figure=True, photon_only=False)"
   ]
  }
 ],
 "metadata": {
  "kernelspec": {
   "display_name": "openmc-arm",
   "language": "python",
   "name": "python3"
  },
  "language_info": {
   "codemirror_mode": {
    "name": "ipython",
    "version": 3
   },
   "file_extension": ".py",
   "mimetype": "text/x-python",
   "name": "python",
   "nbconvert_exporter": "python",
   "pygments_lexer": "ipython3",
   "version": "3.11.12"
  }
 },
 "nbformat": 4,
 "nbformat_minor": 5
}
