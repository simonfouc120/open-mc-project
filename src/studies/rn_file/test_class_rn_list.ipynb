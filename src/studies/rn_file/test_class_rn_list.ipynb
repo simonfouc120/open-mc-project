{
 "cells": [
  {
   "cell_type": "code",
   "execution_count": 1,
   "id": "c3c4817f",
   "metadata": {},
   "outputs": [],
   "source": [
    "# -*- coding: utf-8 -*-\n",
    "import matplotlib.pyplot as plt\n",
    "from matplotlib.colors import LogNorm\n",
    "from pathlib import Path\n",
    "import numpy as np\n",
    "import pandas as pd"
   ]
  },
  {
   "cell_type": "code",
   "execution_count": 2,
   "id": "f9469f31",
   "metadata": {},
   "outputs": [],
   "source": [
    "from pathlib import Path\n",
    "import sys \n",
    "CWD = Path.cwd().resolve()\n",
    "project_root = Path.cwd().parents[2]\n",
    "sys.path.append(str(project_root))\n",
    "from src.utils.common.isotope import *"
   ]
  },
  {
   "cell_type": "code",
   "execution_count": 3,
   "id": "8c9952e6",
   "metadata": {},
   "outputs": [],
   "source": [
    "activation_rods = Radionuclide_list(file=\"rn.csv\", given_information=\"Mass[g]\")"
   ]
  },
  {
   "cell_type": "code",
   "execution_count": 5,
   "id": "53d54ee1",
   "metadata": {},
   "outputs": [
    {
     "ename": "FileNotFoundError",
     "evalue": "[Errno 2] No such file or directory: '/Users/simonfoucambert/Documents/projects/open-mc-project/lib/nuclides_lara/54Mn.lara.txt'",
     "output_type": "error",
     "traceback": [
      "\u001b[31m---------------------------------------------------------------------------\u001b[39m",
      "\u001b[31mFileNotFoundError\u001b[39m                         Traceback (most recent call last)",
      "\u001b[36mCell\u001b[39m\u001b[36m \u001b[39m\u001b[32mIn[5]\u001b[39m\u001b[32m, line 1\u001b[39m\n\u001b[32m----> \u001b[39m\u001b[32m1\u001b[39m \u001b[43mactivation_rods\u001b[49m\u001b[43m.\u001b[49m\u001b[43mcompute_total_activity_array\u001b[49m\u001b[43m(\u001b[49m\u001b[43mtime_points\u001b[49m\u001b[43m=\u001b[49m\u001b[43mnp\u001b[49m\u001b[43m.\u001b[49m\u001b[43mlinspace\u001b[49m\u001b[43m(\u001b[49m\u001b[32;43m0\u001b[39;49m\u001b[43m,\u001b[49m\u001b[43m \u001b[49m\u001b[32;43m3600\u001b[39;49m\u001b[43m*\u001b[49m\u001b[32;43m24\u001b[39;49m\u001b[43m,\u001b[49m\u001b[43m \u001b[49m\u001b[32;43m100\u001b[39;49m\u001b[43m)\u001b[49m\u001b[43m)\u001b[49m\n",
      "\u001b[36mFile \u001b[39m\u001b[32m~/Documents/projects/open-mc-project/src/utils/common/isotope.py:320\u001b[39m, in \u001b[36mRadionuclide_list.compute_total_activity_array\u001b[39m\u001b[34m(self, time_points)\u001b[39m\n\u001b[32m    318\u001b[39m total_weight_at_time = []\n\u001b[32m    319\u001b[39m \u001b[38;5;28;01mfor\u001b[39;00m time \u001b[38;5;129;01min\u001b[39;00m time_points:\n\u001b[32m--> \u001b[39m\u001b[32m320\u001b[39m     _, _, total_weight = \u001b[38;5;28;43mself\u001b[39;49m\u001b[43m.\u001b[49m\u001b[43mcompute_total_source_term\u001b[49m\u001b[43m(\u001b[49m\u001b[43mtime\u001b[49m\u001b[43m=\u001b[49m\u001b[43mtime\u001b[49m\u001b[43m)\u001b[49m\n\u001b[32m    321\u001b[39m     total_weight_at_time.append(total_weight)\n\u001b[32m    322\u001b[39m \u001b[38;5;28;01mreturn\u001b[39;00m total_weight_at_time\n",
      "\u001b[36mFile \u001b[39m\u001b[32m~/Documents/projects/open-mc-project/src/utils/common/isotope.py:281\u001b[39m, in \u001b[36mRadionuclide_list.compute_total_source_term\u001b[39m\u001b[34m(self, time, unit_energy)\u001b[39m\n\u001b[32m    279\u001b[39m \u001b[38;5;28;01mfor\u001b[39;00m rn, mass \u001b[38;5;129;01min\u001b[39;00m \u001b[38;5;28mself\u001b[39m.dict_rn.items():\n\u001b[32m    280\u001b[39m     rn_lara = Radionuclide_lara(rn)\n\u001b[32m--> \u001b[39m\u001b[32m281\u001b[39m     energy, intensity, _ = \u001b[43mrn_lara\u001b[49m\u001b[43m.\u001b[49m\u001b[43mget_rays_emission_data\u001b[49m\u001b[43m(\u001b[49m\u001b[43mphoton_only\u001b[49m\u001b[43m=\u001b[49m\u001b[38;5;28;43;01mTrue\u001b[39;49;00m\u001b[43m)\u001b[49m\n\u001b[32m    282\u001b[39m     activity = rn_lara.get_activity_after_time(mass=mass, time=time)\n\u001b[32m    283\u001b[39m     rays.extend(energy)\n",
      "\u001b[36mFile \u001b[39m\u001b[32m~/Documents/projects/open-mc-project/src/utils/common/isotope.py:171\u001b[39m, in \u001b[36mRadionuclide_lara.get_rays_emission_data\u001b[39m\u001b[34m(self, energy_filter, intensity_filter, photon_only)\u001b[39m\n\u001b[32m    167\u001b[39m \u001b[38;5;28;01mdef\u001b[39;00m\u001b[38;5;250m \u001b[39m\u001b[34mget_rays_emission_data\u001b[39m(\u001b[38;5;28mself\u001b[39m, \n\u001b[32m    168\u001b[39m                            energy_filter=\u001b[38;5;28;01mNone\u001b[39;00m, \n\u001b[32m    169\u001b[39m                            intensity_filter=\u001b[38;5;28;01mNone\u001b[39;00m, \n\u001b[32m    170\u001b[39m                            photon_only=\u001b[38;5;28;01mFalse\u001b[39;00m) -> \u001b[38;5;28mtuple\u001b[39m:\n\u001b[32m--> \u001b[39m\u001b[32m171\u001b[39m     rays_energies =  np.array([\u001b[38;5;28mfloat\u001b[39m(em[\u001b[33m'\u001b[39m\u001b[33mEnergy (keV)\u001b[39m\u001b[33m'\u001b[39m]) \u001b[38;5;28;01mfor\u001b[39;00m em \u001b[38;5;129;01min\u001b[39;00m \u001b[38;5;28;43mself\u001b[39;49m\u001b[43m.\u001b[49m\u001b[43mradionuclide_data\u001b[49m[\u001b[33m\"\u001b[39m\u001b[33mEmissions\u001b[39m\u001b[33m\"\u001b[39m]])\n\u001b[32m    172\u001b[39m     rays_intensities = np.array([\u001b[38;5;28mfloat\u001b[39m(em[\u001b[33m'\u001b[39m\u001b[33mIntensity (\u001b[39m\u001b[33m%\u001b[39m\u001b[33m)\u001b[39m\u001b[33m'\u001b[39m]) \u001b[38;5;28;01mfor\u001b[39;00m em \u001b[38;5;129;01min\u001b[39;00m \u001b[38;5;28mself\u001b[39m.radionuclide_data[\u001b[33m\"\u001b[39m\u001b[33mEmissions\u001b[39m\u001b[33m\"\u001b[39m]])\n\u001b[32m    173\u001b[39m     rays_types = np.array([em[\u001b[33m'\u001b[39m\u001b[33mType\u001b[39m\u001b[33m'\u001b[39m] \u001b[38;5;28;01mfor\u001b[39;00m em \u001b[38;5;129;01min\u001b[39;00m \u001b[38;5;28mself\u001b[39m.radionuclide_data[\u001b[33m\"\u001b[39m\u001b[33mEmissions\u001b[39m\u001b[33m\"\u001b[39m]])\n",
      "\u001b[36mFile \u001b[39m\u001b[32m~/Documents/projects/open-mc-project/src/utils/common/isotope.py:51\u001b[39m, in \u001b[36mRadionuclide_lara.radionuclide_data\u001b[39m\u001b[34m(self)\u001b[39m\n\u001b[32m     49\u001b[39m rn_data = {}\n\u001b[32m     50\u001b[39m emissions = []\n\u001b[32m---> \u001b[39m\u001b[32m51\u001b[39m \u001b[38;5;28;01mwith\u001b[39;00m \u001b[38;5;28;43mopen\u001b[39;49m\u001b[43m(\u001b[49m\u001b[43mfile_path\u001b[49m\u001b[43m,\u001b[49m\u001b[43m \u001b[49m\u001b[43mencoding\u001b[49m\u001b[43m=\u001b[49m\u001b[33;43m'\u001b[39;49m\u001b[33;43mutf-8\u001b[39;49m\u001b[33;43m'\u001b[39;49m\u001b[43m)\u001b[49m \u001b[38;5;28;01mas\u001b[39;00m f:\n\u001b[32m     52\u001b[39m     lines = [line.strip() \u001b[38;5;28;01mfor\u001b[39;00m line \u001b[38;5;129;01min\u001b[39;00m f \u001b[38;5;28;01mif\u001b[39;00m line.strip()]\n\u001b[32m     53\u001b[39m     section = \u001b[38;5;28;01mNone\u001b[39;00m\n",
      "\u001b[31mFileNotFoundError\u001b[39m: [Errno 2] No such file or directory: '/Users/simonfoucambert/Documents/projects/open-mc-project/lib/nuclides_lara/54Mn.lara.txt'"
     ]
    }
   ],
   "source": [
    "activation_rods.compute_total_activity_array(time_points=np.linspace(0, 3600*24, 100))"
   ]
  }
 ],
 "metadata": {
  "kernelspec": {
   "display_name": "openmc-arm",
   "language": "python",
   "name": "python3"
  },
  "language_info": {
   "codemirror_mode": {
    "name": "ipython",
    "version": 3
   },
   "file_extension": ".py",
   "mimetype": "text/x-python",
   "name": "python",
   "nbconvert_exporter": "python",
   "pygments_lexer": "ipython3",
   "version": "3.11.12"
  }
 },
 "nbformat": 4,
 "nbformat_minor": 5
}
