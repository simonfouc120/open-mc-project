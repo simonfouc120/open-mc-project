{
 "cells": [
  {
   "cell_type": "code",
   "execution_count": 1,
   "id": "e3d9d738",
   "metadata": {},
   "outputs": [],
   "source": [
    "import openmc\n",
    "import os \n",
    "import json\n",
    "import matplotlib.pyplot as plt\n",
    "from matplotlib.colors import LogNorm\n",
    "from pathlib import Path\n",
    "import sys \n",
    "from PIL import Image\n",
    "import numpy as np\n",
    "\n",
    "\n",
    "CWD = Path.cwd().resolve()\n",
    "project_root = Path.cwd().parents[2]\n",
    "sys.path.append(str(project_root))\n",
    "\n",
    "from parameters.parameters_paths import PATH_TO_CROSS_SECTIONS\n",
    "from parameters.parameters_materials import FUEL_MATERIAL, HELIUM_MATERIAL, AIR_MATERIAL, CONCRETE_MATERIAL, GRAPHITE_MATERIAL, STEEL_MATERIAL, WATER_MATERIAL\n",
    "from src.utils.pre_processing.pre_processing import *\n",
    "from src.utils.post_preocessing.post_processing import load_mesh_tally, load_dammage_energy_tally, load_mesh_tally_dose\n",
    "from src.utils.common.materials_utils import get_mass_fraction\n",
    "\n",
    "os.environ[\"OPENMC_CROSS_SECTIONS\"] = PATH_TO_CROSS_SECTIONS\n"
   ]
  },
  {
   "cell_type": "code",
   "execution_count": 2,
   "id": "d30c1731",
   "metadata": {},
   "outputs": [
    {
     "data": {
      "text/plain": [
       "'/Users/simonfoucambert/Documents/projects/open-mc-project/lib/cross_sections/cross_sections.xml'"
      ]
     },
     "execution_count": 2,
     "metadata": {},
     "output_type": "execute_result"
    }
   ],
   "source": [
    "PATH_TO_CROSS_SECTIONS"
   ]
  },
  {
   "cell_type": "code",
   "execution_count": 4,
   "id": "5cadca40",
   "metadata": {},
   "outputs": [
    {
     "data": {
      "text/plain": [
       "7.302030887879003e-10"
      ]
     },
     "execution_count": 4,
     "metadata": {},
     "output_type": "execute_result"
    }
   ],
   "source": [
    "openmc.data.decay_constant(isotope=\"Cs137\")"
   ]
  },
  {
   "cell_type": "code",
   "execution_count": 9,
   "id": "a31b8fa2",
   "metadata": {},
   "outputs": [
    {
     "data": {
      "text/plain": [
       "949252600.0"
      ]
     },
     "execution_count": 9,
     "metadata": {},
     "output_type": "execute_result"
    }
   ],
   "source": [
    "openmc.data.half_life(isotope=\"Cs137\")"
   ]
  },
  {
   "cell_type": "code",
   "execution_count": 16,
   "id": "9e8abb16",
   "metadata": {},
   "outputs": [
    {
     "data": {
      "text/plain": [
       "136.907089296"
      ]
     },
     "execution_count": 16,
     "metadata": {},
     "output_type": "execute_result"
    }
   ],
   "source": [
    "openmc.data.atomic_mass(isotope=\"Cs137\")"
   ]
  },
  {
   "cell_type": "code",
   "execution_count": 30,
   "id": "3fa0a3fc",
   "metadata": {},
   "outputs": [],
   "source": [
    "# define a isotope class with the name, decay constant and half life and a method to return the massic activity\n",
    "class Isotope:\n",
    "    def __init__(self, name):\n",
    "        self.name = name\n",
    "        self.decay_constant = openmc.data.decay_constant(isotope=name)\n",
    "        self.half_life = openmc.data.half_life(isotope=name)\n",
    "        self.atomic_mass = openmc.data.atomic_mass(isotope=name)\n",
    "\n",
    "    @property\n",
    "    def massic_activity(self):\n",
    "        return (6.022e23 * np.log(2)) / (self.atomic_mass * self.half_life)"
   ]
  },
  {
   "cell_type": "code",
   "execution_count": 32,
   "id": "bf834755",
   "metadata": {},
   "outputs": [],
   "source": [
    "cesium_137 = Isotope(\"Cs137\")"
   ]
  },
  {
   "cell_type": "code",
   "execution_count": 33,
   "id": "c84969a9",
   "metadata": {},
   "outputs": [
    {
     "name": "stdout",
     "output_type": "stream",
     "text": [
      "3.212E+12\n"
     ]
    }
   ],
   "source": [
    "print(f\"{cesium_137.massic_activity:.3E}\")"
   ]
  }
 ],
 "metadata": {
  "kernelspec": {
   "display_name": "openmc-arm",
   "language": "python",
   "name": "python3"
  },
  "language_info": {
   "codemirror_mode": {
    "name": "ipython",
    "version": 3
   },
   "file_extension": ".py",
   "mimetype": "text/x-python",
   "name": "python",
   "nbconvert_exporter": "python",
   "pygments_lexer": "ipython3",
   "version": "3.11.12"
  }
 },
 "nbformat": 4,
 "nbformat_minor": 5
}
