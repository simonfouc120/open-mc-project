{
 "cells": [
  {
   "cell_type": "code",
   "execution_count": 2,
   "id": "0f48a1a1",
   "metadata": {},
   "outputs": [],
   "source": [
    "import openmc\n",
    "import numpy as np\n",
    "import matplotlib.pyplot as plt\n",
    "from pathlib import Path\n",
    "import sys\n",
    "from openmc.data import REACTION_MT\n",
    "\n",
    "CWD = Path.cwd().resolve()\n",
    "project_root = Path.cwd().parents[2]\n",
    "sys.path.append(str(project_root))\n",
    "from parameters.parameters_paths import PATH_TO_CROSS_SECTIONS\n",
    "openmc.config['cross_sections'] = PATH_TO_CROSS_SECTIONS\n"
   ]
  },
  {
   "cell_type": "code",
   "execution_count": 3,
   "id": "6f561c4a",
   "metadata": {},
   "outputs": [],
   "source": [
    "from parameters.parameters_materials import CONCRETE_MATERIAL, FUEL_MATERIAL"
   ]
  },
  {
   "cell_type": "markdown",
   "id": "c166773e",
   "metadata": {},
   "source": [
    "COPIED FROM NEUTRONIC WORKSHOP, DOESNT WORK WITH THIS OPENMC VERSION\n",
    "DONT KNOW WHY"
   ]
  },
  {
   "cell_type": "code",
   "execution_count": 4,
   "id": "19b43d34",
   "metadata": {},
   "outputs": [
    {
     "ename": "FileNotFoundError",
     "evalue": "[Errno 2] Unable to synchronously open file (unable to open file: name = '/Users/simonfoucambert/Documents/projects/open-mc-project/src/studies/cross_sections/lib/cross_sections/neutrons/W186.h5', errno = 2, error message = 'No such file or directory', flags = 0, o_flags = 0)",
     "output_type": "error",
     "traceback": [
      "\u001b[31m---------------------------------------------------------------------------\u001b[39m",
      "\u001b[31mFileNotFoundError\u001b[39m                         Traceback (most recent call last)",
      "\u001b[36mCell\u001b[39m\u001b[36m \u001b[39m\u001b[32mIn[4]\u001b[39m\u001b[32m, line 7\u001b[39m\n\u001b[32m      3\u001b[39m mt_number = REACTION_MT[\u001b[33m\"\u001b[39m\u001b[33m(n,total)\u001b[39m\u001b[33m\"\u001b[39m]  \u001b[38;5;66;03m# looks up the MT number for the total reaction\u001b[39;00m\n\u001b[32m      5\u001b[39m h5_file = CWD / \u001b[33m\"\u001b[39m\u001b[33mlib\u001b[39m\u001b[33m\"\u001b[39m / \u001b[33m\"\u001b[39m\u001b[33mcross_sections\u001b[39m\u001b[33m\"\u001b[39m / \u001b[33m\"\u001b[39m\u001b[33mneutrons\u001b[39m\u001b[33m\"\u001b[39m / \u001b[33m\"\u001b[39m\u001b[33mW186.h5\u001b[39m\u001b[33m\"\u001b[39m  \u001b[38;5;66;03m# 074186 is W186\u001b[39;00m\n\u001b[32m----> \u001b[39m\u001b[32m7\u001b[39m isotope_multipole = \u001b[43mopenmc\u001b[49m\u001b[43m.\u001b[49m\u001b[43mdata\u001b[49m\u001b[43m.\u001b[49m\u001b[43mWindowedMultipole\u001b[49m\u001b[43m.\u001b[49m\u001b[43mfrom_hdf5\u001b[49m\u001b[43m(\u001b[49m\u001b[43mh5_file\u001b[49m\u001b[43m)\u001b[49m  \u001b[38;5;66;03m# loads up the WMP cross section file\u001b[39;00m\n\u001b[32m      9\u001b[39m temperature = \u001b[32m200\u001b[39m  \u001b[38;5;66;03m# temperature in kelvin to plot\u001b[39;00m\n\u001b[32m     11\u001b[39m fig, ax = plt.subplots()\n",
      "\u001b[36mFile \u001b[39m\u001b[32m~/miniconda3/envs/openmc-arm/lib/python3.11/site-packages/openmc/data/multipole.py:957\u001b[39m, in \u001b[36mWindowedMultipole.from_hdf5\u001b[39m\u001b[34m(cls, group_or_filename)\u001b[39m\n\u001b[32m    955\u001b[39m     need_to_close = \u001b[38;5;28;01mFalse\u001b[39;00m\n\u001b[32m    956\u001b[39m \u001b[38;5;28;01melse\u001b[39;00m:\n\u001b[32m--> \u001b[39m\u001b[32m957\u001b[39m     h5file = \u001b[43mh5py\u001b[49m\u001b[43m.\u001b[49m\u001b[43mFile\u001b[49m\u001b[43m(\u001b[49m\u001b[38;5;28;43mstr\u001b[39;49m\u001b[43m(\u001b[49m\u001b[43mgroup_or_filename\u001b[49m\u001b[43m)\u001b[49m\u001b[43m,\u001b[49m\u001b[43m \u001b[49m\u001b[33;43m'\u001b[39;49m\u001b[33;43mr\u001b[39;49m\u001b[33;43m'\u001b[39;49m\u001b[43m)\u001b[49m\n\u001b[32m    958\u001b[39m     need_to_close = \u001b[38;5;28;01mTrue\u001b[39;00m\n\u001b[32m    960\u001b[39m     \u001b[38;5;66;03m# Make sure version matches\u001b[39;00m\n",
      "\u001b[36mFile \u001b[39m\u001b[32m~/miniconda3/envs/openmc-arm/lib/python3.11/site-packages/h5py/_hl/files.py:564\u001b[39m, in \u001b[36mFile.__init__\u001b[39m\u001b[34m(self, name, mode, driver, libver, userblock_size, swmr, rdcc_nslots, rdcc_nbytes, rdcc_w0, track_order, fs_strategy, fs_persist, fs_threshold, fs_page_size, page_buf_size, min_meta_keep, min_raw_keep, locking, alignment_threshold, alignment_interval, meta_block_size, **kwds)\u001b[39m\n\u001b[32m    555\u001b[39m     fapl = make_fapl(driver, libver, rdcc_nslots, rdcc_nbytes, rdcc_w0,\n\u001b[32m    556\u001b[39m                      locking, page_buf_size, min_meta_keep, min_raw_keep,\n\u001b[32m    557\u001b[39m                      alignment_threshold=alignment_threshold,\n\u001b[32m    558\u001b[39m                      alignment_interval=alignment_interval,\n\u001b[32m    559\u001b[39m                      meta_block_size=meta_block_size,\n\u001b[32m    560\u001b[39m                      **kwds)\n\u001b[32m    561\u001b[39m     fcpl = make_fcpl(track_order=track_order, fs_strategy=fs_strategy,\n\u001b[32m    562\u001b[39m                      fs_persist=fs_persist, fs_threshold=fs_threshold,\n\u001b[32m    563\u001b[39m                      fs_page_size=fs_page_size)\n\u001b[32m--> \u001b[39m\u001b[32m564\u001b[39m     fid = \u001b[43mmake_fid\u001b[49m\u001b[43m(\u001b[49m\u001b[43mname\u001b[49m\u001b[43m,\u001b[49m\u001b[43m \u001b[49m\u001b[43mmode\u001b[49m\u001b[43m,\u001b[49m\u001b[43m \u001b[49m\u001b[43muserblock_size\u001b[49m\u001b[43m,\u001b[49m\u001b[43m \u001b[49m\u001b[43mfapl\u001b[49m\u001b[43m,\u001b[49m\u001b[43m \u001b[49m\u001b[43mfcpl\u001b[49m\u001b[43m,\u001b[49m\u001b[43m \u001b[49m\u001b[43mswmr\u001b[49m\u001b[43m=\u001b[49m\u001b[43mswmr\u001b[49m\u001b[43m)\u001b[49m\n\u001b[32m    566\u001b[39m \u001b[38;5;28;01mif\u001b[39;00m \u001b[38;5;28misinstance\u001b[39m(libver, \u001b[38;5;28mtuple\u001b[39m):\n\u001b[32m    567\u001b[39m     \u001b[38;5;28mself\u001b[39m._libver = libver\n",
      "\u001b[36mFile \u001b[39m\u001b[32m~/miniconda3/envs/openmc-arm/lib/python3.11/site-packages/h5py/_hl/files.py:238\u001b[39m, in \u001b[36mmake_fid\u001b[39m\u001b[34m(name, mode, userblock_size, fapl, fcpl, swmr)\u001b[39m\n\u001b[32m    236\u001b[39m     \u001b[38;5;28;01mif\u001b[39;00m swmr \u001b[38;5;129;01mand\u001b[39;00m swmr_support:\n\u001b[32m    237\u001b[39m         flags |= h5f.ACC_SWMR_READ\n\u001b[32m--> \u001b[39m\u001b[32m238\u001b[39m     fid = \u001b[43mh5f\u001b[49m\u001b[43m.\u001b[49m\u001b[43mopen\u001b[49m\u001b[43m(\u001b[49m\u001b[43mname\u001b[49m\u001b[43m,\u001b[49m\u001b[43m \u001b[49m\u001b[43mflags\u001b[49m\u001b[43m,\u001b[49m\u001b[43m \u001b[49m\u001b[43mfapl\u001b[49m\u001b[43m=\u001b[49m\u001b[43mfapl\u001b[49m\u001b[43m)\u001b[49m\n\u001b[32m    239\u001b[39m \u001b[38;5;28;01melif\u001b[39;00m mode == \u001b[33m'\u001b[39m\u001b[33mr+\u001b[39m\u001b[33m'\u001b[39m:\n\u001b[32m    240\u001b[39m     fid = h5f.open(name, h5f.ACC_RDWR, fapl=fapl)\n",
      "\u001b[36mFile \u001b[39m\u001b[32mh5py/_objects.pyx:54\u001b[39m, in \u001b[36mh5py._objects.with_phil.wrapper\u001b[39m\u001b[34m()\u001b[39m\n",
      "\u001b[36mFile \u001b[39m\u001b[32mh5py/_objects.pyx:55\u001b[39m, in \u001b[36mh5py._objects.with_phil.wrapper\u001b[39m\u001b[34m()\u001b[39m\n",
      "\u001b[36mFile \u001b[39m\u001b[32mh5py/h5f.pyx:102\u001b[39m, in \u001b[36mh5py.h5f.open\u001b[39m\u001b[34m()\u001b[39m\n",
      "\u001b[31mFileNotFoundError\u001b[39m: [Errno 2] Unable to synchronously open file (unable to open file: name = '/Users/simonfoucambert/Documents/projects/open-mc-project/src/studies/cross_sections/lib/cross_sections/neutrons/W186.h5', errno = 2, error message = 'No such file or directory', flags = 0, o_flags = 0)"
     ]
    }
   ],
   "source": [
    "energy = np.linspace(1, 2000, 50000)  # sets the energy range from 1 to 2000eV, this is were resonances are\n",
    "\n",
    "mt_number = REACTION_MT[\"(n,total)\"]  # looks up the MT number for the total reaction\n",
    "\n",
    "h5_file = CWD / \"lib\" / \"cross_sections\" / \"neutrons\" / \"W186.h5\"  # 074186 is W186\n",
    "\n",
    "isotope_multipole = openmc.data.WindowedMultipole.from_hdf5(h5_file)  # loads up the WMP cross section file\n",
    "\n",
    "temperature = 200  # temperature in kelvin to plot\n",
    "\n",
    "fig, ax = plt.subplots()\n",
    "\n",
    "ax.plot(\n",
    "    energy,\n",
    "    isotope_multipole(energy, temperature)[mt_number],\n",
    "    label=f\"Tungsten 186 at {temperature} Kelvin\"\n",
    ")\n",
    "\n",
    "ax.set_yscale('log')\n",
    "ax.set_ylabel('Microscopic cross section [barns]')\n",
    "ax.set_xlabel('Energy [eV]')\n",
    "ax.legend()\n",
    "ax.set_title('Total cross section for W186 at 200K')"
   ]
  },
  {
   "cell_type": "code",
   "execution_count": null,
   "id": "6616b712",
   "metadata": {},
   "outputs": [
    {
     "ename": "AttributeError",
     "evalue": "'Material' object has no attribute 'mean_free_path'",
     "output_type": "error",
     "traceback": [
      "\u001b[31m---------------------------------------------------------------------------\u001b[39m",
      "\u001b[31mAttributeError\u001b[39m                            Traceback (most recent call last)",
      "\u001b[36mCell\u001b[39m\u001b[36m \u001b[39m\u001b[32mIn[4]\u001b[39m\u001b[32m, line 6\u001b[39m\n\u001b[32m      3\u001b[39m mat1.add_element(\u001b[33m'\u001b[39m\u001b[33mC\u001b[39m\u001b[33m'\u001b[39m, \u001b[32m0.025\u001b[39m)\n\u001b[32m      4\u001b[39m mat1.set_density(\u001b[33m'\u001b[39m\u001b[33mg/cm3\u001b[39m\u001b[33m'\u001b[39m, \u001b[32m7.7\u001b[39m)\n\u001b[32m----> \u001b[39m\u001b[32m6\u001b[39m mean_free_path_14 = \u001b[43mmat1\u001b[49m\u001b[43m.\u001b[49m\u001b[43mmean_free_path\u001b[49m(energy=\u001b[32m14e6\u001b[39m)\n\u001b[32m      7\u001b[39m mean_free_path_thermal = mat1.mean_free_path(energy=\u001b[32m0.025\u001b[39m)\n\u001b[32m      8\u001b[39m mat1.paths\n",
      "\u001b[31mAttributeError\u001b[39m: 'Material' object has no attribute 'mean_free_path'"
     ]
    }
   ],
   "source": [
    "mat1 = openmc.Material(name = 'Steel')\n",
    "mat1.add_element('Fe', 0.975)\n",
    "mat1.add_element('C', 0.025)\n",
    "mat1.set_density('g/cm3', 7.7)\n",
    "\n",
    "mean_free_path_14 = mat1.mean_free_path(energy=14e6)\n",
    "mean_free_path_thermal = mat1.mean_free_path(energy=0.025)\n",
    "print(f'Mean free path of a neutron in {mat1.name} at 14e6 eV = {mean_free_path_14:.4f} cm')\n",
    "print(f'Mean free path of a neutron in {mat1.name} at 0.025 eV = {mean_free_path_thermal:.4f} cm')"
   ]
  }
 ],
 "metadata": {
  "kernelspec": {
   "display_name": "openmc-arm",
   "language": "python",
   "name": "python3"
  },
  "language_info": {
   "codemirror_mode": {
    "name": "ipython",
    "version": 3
   },
   "file_extension": ".py",
   "mimetype": "text/x-python",
   "name": "python",
   "nbconvert_exporter": "python",
   "pygments_lexer": "ipython3",
   "version": "3.11.12"
  }
 },
 "nbformat": 4,
 "nbformat_minor": 5
}
